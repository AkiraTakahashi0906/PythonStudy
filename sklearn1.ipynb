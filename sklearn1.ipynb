{
 "cells": [
  {
   "cell_type": "code",
   "execution_count": 1,
   "id": "537bd58e-69bc-488f-8900-001326cf8a95",
   "metadata": {
    "pycharm": {
     "is_executing": false
    }
   },
   "outputs": [],
   "source": [
    "import numpy as np"
   ]
  },
  {
   "cell_type": "code",
   "execution_count": 5,
   "id": "d530a871-5ad2-4d26-b8c9-4c02a43dff61",
   "metadata": {
    "pycharm": {
     "is_executing": false
    }
   },
   "outputs": [
    {
     "name": "stdout",
     "text": [
      "1,-7.428476,1.509903\r\n",
      "0,2.980693,1.960821\r\n",
      "0,3.988255,4.636389\r\n",
      "1,-5.789437,-4.621614\r\n",
      "1,-4.894447,-3.269730\r\n",
      "1,-1.933949,-0.047276\r\n",
      "0,-1.611771,5.932201\r\n",
      "1,-6.670152,-1.036282\r\n",
      "1,-2.931415,-0.104475\r\n",
      "0,-0.074762,1.070002\r\n",
      "1,-2.691793,4.168774\r\n",
      "0,0.461182,3.453438\r\n",
      "0,-1.354135,3.751657\r\n",
      "1,-6.229476,-1.209434\r\n",
      "0,2.778594,7.582103\r\n",
      "1,-5.719578,-0.243509\r\n",
      "0,0.928322,3.208520\r\n",
      "0,0.850475,2.908955\r\n",
      "1,-6.029489,-1.831199\r\n",
      "0,1.116025,3.353602\r\n"
     ],
     "output_type": "stream"
    }
   ],
   "source": [
    "!cat 2D_example.csv"
   ]
  },
  {
   "cell_type": "code",
   "execution_count": 6,
   "id": "6d95f934-2a0a-40c5-87e2-79f9948e953b",
   "metadata": {
    "pycharm": {
     "is_executing": false
    }
   },
   "outputs": [],
   "source": [
    "#dataのにデータをセット\n",
    "data = np.loadtxt(\"2D_example.csv\",delimiter=\",\")"
   ]
  },
  {
   "cell_type": "code",
   "execution_count": 7,
   "id": "6fadb275-2228-43f4-bc42-2d54adbb369a",
   "metadata": {
    "pycharm": {
     "is_executing": false
    }
   },
   "outputs": [],
   "source": [
    "#一列目がラベル　整数に変換\n",
    "y=data[:,0].astype(int)\n",
    "#: 上から下まで全部\n",
    "#0 一番左の列\n",
    "#intでyに入れる"
   ]
  },
  {
   "cell_type": "code",
   "execution_count": 8,
   "id": "1cd1fc97-4c74-49e0-b0c5-295f59683612",
   "metadata": {
    "pycharm": {
     "is_executing": false
    }
   },
   "outputs": [
    {
     "data": {
      "text/plain": "array([1, 0, 0, 1, 1, 1, 0, 1, 1, 0, 1, 0, 0, 1, 0, 1, 0, 0, 1, 0])"
     },
     "metadata": {},
     "output_type": "execute_result",
     "execution_count": 8
    }
   ],
   "source": [
    "y"
   ]
  },
  {
   "cell_type": "code",
   "execution_count": 9,
   "id": "f03154b5-3507-4cf9-b037-6bbaafdd43eb",
   "metadata": {
    "pycharm": {
     "is_executing": false
    }
   },
   "outputs": [],
   "source": [
    "X=data[:,1:3] #2,3列目をxに入れる"
   ]
  },
  {
   "cell_type": "code",
   "execution_count": 10,
   "id": "071fec50-d884-4fa0-8726-b04f8bd13cec",
   "metadata": {
    "pycharm": {
     "is_executing": false
    }
   },
   "outputs": [
    {
     "data": {
      "text/plain": "array([[-7.428476,  1.509903],\n       [ 2.980693,  1.960821],\n       [ 3.988255,  4.636389],\n       [-5.789437, -4.621614],\n       [-4.894447, -3.26973 ],\n       [-1.933949, -0.047276],\n       [-1.611771,  5.932201],\n       [-6.670152, -1.036282],\n       [-2.931415, -0.104475],\n       [-0.074762,  1.070002],\n       [-2.691793,  4.168774],\n       [ 0.461182,  3.453438],\n       [-1.354135,  3.751657],\n       [-6.229476, -1.209434],\n       [ 2.778594,  7.582103],\n       [-5.719578, -0.243509],\n       [ 0.928322,  3.20852 ],\n       [ 0.850475,  2.908955],\n       [-6.029489, -1.831199],\n       [ 1.116025,  3.353602]])"
     },
     "metadata": {},
     "output_type": "execute_result",
     "execution_count": 10
    }
   ],
   "source": [
    "X"
   ]
  },
  {
   "cell_type": "code",
   "execution_count": 11,
   "id": "d2a75aa7-9afb-45bf-88b4-f6f55ac0ba28",
   "metadata": {
    "pycharm": {
     "is_executing": false
    }
   },
   "outputs": [
    {
     "data": {
      "text/plain": "array([-7.428476,  2.980693,  3.988255, -5.789437, -4.894447, -1.933949,\n       -1.611771, -6.670152, -2.931415, -0.074762, -2.691793,  0.461182,\n       -1.354135, -6.229476,  2.778594, -5.719578,  0.928322,  0.850475,\n       -6.029489,  1.116025])"
     },
     "metadata": {},
     "output_type": "execute_result",
     "execution_count": 11
    }
   ],
   "source": [
    "X[:,0] # xの一列目 csvの二列目"
   ]
  },
  {
   "cell_type": "code",
   "execution_count": 12,
   "id": "8a83f879-f4fe-474b-a87d-d5b4b46c4997",
   "metadata": {
    "pycharm": {
     "is_executing": false
    }
   },
   "outputs": [
    {
     "data": {
      "text/plain": "array([ 1.509903,  1.960821,  4.636389, -4.621614, -3.26973 , -0.047276,\n        5.932201, -1.036282, -0.104475,  1.070002,  4.168774,  3.453438,\n        3.751657, -1.209434,  7.582103, -0.243509,  3.20852 ,  2.908955,\n       -1.831199,  3.353602])"
     },
     "metadata": {},
     "output_type": "execute_result",
     "execution_count": 12
    }
   ],
   "source": [
    "X[:,1] # xの二列目 csvの三列目"
   ]
  },
  {
   "cell_type": "code",
   "execution_count": 14,
   "id": "ffaff2dd-36a1-468b-8723-6ddc825aa694",
   "metadata": {
    "pycharm": {
     "is_executing": false
    }
   },
   "outputs": [
    {
     "data": {
      "text/plain": "<Figure size 432x288 with 0 Axes>"
     },
     "metadata": {},
     "output_type": "display_data"
    }
   ],
   "source": [
    "import matplotlib.pyplot as plt\n",
    "%matplotlib inline\n",
    "plt.set_cmap(plt.cm.Paired) #色設定\n"
   ]
  },
  {
   "cell_type": "code",
   "execution_count": 15,
   "id": "b3897a18-a8d7-41da-9d1d-62936e52aa26",
   "metadata": {
    "pycharm": {
     "is_executing": false
    }
   },
   "outputs": [
    {
     "data": {
      "text/plain": "<matplotlib.collections.PathCollection at 0x129504a60>"
     },
     "metadata": {},
     "output_type": "execute_result",
     "execution_count": 15
    },
    {
     "data": {
      "text/plain": "<Figure size 432x288 with 1 Axes>",
      "image/png": "[encoded data removed]"
     },
     "metadata": {
      "needs_background": "light"
     },
     "output_type": "display_data"
    }
   ],
   "source": [
    "plt.scatter(X[:,0],X[:,1],c=y,s=50)\n",
    "# scatterスキャッター　二次元散布図　cカラー　sサイズ"
   ]
  },
  {
   "cell_type": "code",
   "execution_count": 16,
   "id": "ae36ae6e-ff29-4b7e-a9d1-47dd16f7b16c",
   "metadata": {
    "pycharm": {
     "is_executing": false
    }
   },
   "outputs": [],
   "source": [
    "# 境界線を引く関数の定義\n",
    "\n",
    "def plotBoundary(X, clf, mesh=True, boundary=True, n_neighbors=1):\n",
    "\n",
    "    # plot range\n",
    "    x_min = min(X[:,0])\n",
    "    x_max = max(X[:,0])\n",
    "    y_min = min(X[:,1])\n",
    "    y_max = max(X[:,1])\n",
    "\n",
    "    # visualizing decision function\n",
    "    XX, YY = np.mgrid[x_min:x_max:200j, y_min:y_max:200j] # make a grid\n",
    "    \n",
    "    Z = clf.predict(np.c_[XX.ravel(), YY.ravel()]) # evaluate the value \n",
    "    \n",
    "    Z = Z.reshape(XX.shape) # just reshape\n",
    "\n",
    "    if mesh:\n",
    "        plt.pcolormesh(XX, YY, Z, zorder=-10) # paint in 2 colors, if Z > 0 or not\n",
    "\n",
    "    if boundary:\n",
    "        plt.contour(XX, YY, Z, \n",
    "                    colors='k', linestyles='-', levels=[0.5])\n",
    "\n",
    "    plt.xlim(x_min, x_max)\n",
    "    plt.ylim(y_min, y_max)"
   ]
  },
  {
   "cell_type": "code",
   "execution_count": 17,
   "id": "b0ca0575-3fbe-4cfc-870f-475360784d8d",
   "metadata": {
    "pycharm": {
     "is_executing": false
    }
   },
   "outputs": [],
   "source": [
    "from sklearn import neighbors #ニヤレストネイバーズ K−近傍法 通称 K-NN（K-Nearest Neighbor Algorithm の略称）\n",
    "clf = neighbors.KNeighborsClassifier(n_neighbors=1)  #オブジェクトの作成"
   ]
  },
  {
   "cell_type": "code",
   "execution_count": 18,
   "id": "2ab50b54-6ad1-40dc-8bf3-970d778ada7c",
   "metadata": {
    "pycharm": {
     "is_executing": false
    }
   },
   "outputs": [
    {
     "name": "stderr",
     "text": [
      "<ipython-input-16-e0565c65ff19>:19: MatplotlibDeprecationWarning: shading='flat' when X and Y have the same dimensions as C is deprecated since 3.3.  Either specify the corners of the quadrilaterals with X and Y, or pass shading='auto', 'nearest' or 'gouraud', or set rcParams['pcolor.shading'].  This will become an error two minor releases later.\n",
      "  plt.pcolormesh(XX, YY, Z, zorder=-10) # paint in 2 colors, if Z > 0 or not\n"
     ],
     "output_type": "stream"
    },
    {
     "data": {
      "text/plain": "<Figure size 432x288 with 1 Axes>",
      "image/png": "[encoded data removed]"
     },
     "metadata": {
      "needs_background": "light"
     },
     "output_type": "display_data"
    }
   ],
   "source": [
    "clf.fit(X,y) # 学習\n",
    "plt.scatter(X[:, 0], X[:, 1], marker='o', s=50, c=y, edgecolors='k')\n",
    "plotBoundary(X,clf) #境界線の描画"
   ]
  },
  {
   "cell_type": "code",
   "execution_count": 19,
   "id": "65d8c711-e38d-4119-92c8-adfaca7d541f",
   "metadata": {
    "pycharm": {
     "is_executing": false
    }
   },
   "outputs": [],
   "source": [
    "from sklearn import linear_model\n",
    "#オブジェクトの作成 線形回帰モデル (Linear Regression) \n",
    "clf = linear_model.LogisticRegression()"
   ]
  },
  {
   "cell_type": "code",
   "execution_count": 20,
   "id": "95ef048c-36ec-4ba5-abac-215e429baf4c",
   "metadata": {
    "pycharm": {
     "is_executing": false
    }
   },
   "outputs": [
    {
     "name": "stderr",
     "text": [
      "<ipython-input-16-e0565c65ff19>:19: MatplotlibDeprecationWarning: shading='flat' when X and Y have the same dimensions as C is deprecated since 3.3.  Either specify the corners of the quadrilaterals with X and Y, or pass shading='auto', 'nearest' or 'gouraud', or set rcParams['pcolor.shading'].  This will become an error two minor releases later.\n",
      "  plt.pcolormesh(XX, YY, Z, zorder=-10) # paint in 2 colors, if Z > 0 or not\n"
     ],
     "output_type": "stream"
    },
    {
     "data": {
      "text/plain": "<Figure size 432x288 with 1 Axes>",
      "image/png": "[encoded data removed]"
     },
     "metadata": {
      "needs_background": "light"
     },
     "output_type": "display_data"
    }
   ],
   "source": [
    "clf.fit(X,y) # 学習\n",
    "plt.scatter(X[:, 0], X[:, 1], marker='o', s=50, c=y, edgecolors='k')\n",
    "plotBoundary(X,clf) #境界線の描画"
   ]
  },
  {
   "cell_type": "code",
   "execution_count": 21,
   "id": "313b0acb-e654-46a3-8d69-454449128422",
   "metadata": {
    "pycharm": {
     "is_executing": false
    }
   },
   "outputs": [],
   "source": [
    "from sklearn import svm\n",
    "clf=svm.SVC(kernel='linear') #SVM（サポートベクターマシン）とは、データを分類して境界線を引くためのアルゴリズムです。"
   ]
  },
  {
   "cell_type": "code",
   "execution_count": 22,
   "id": "73210689-fd40-472d-badb-0dc2838b1fad",
   "metadata": {
    "pycharm": {
     "is_executing": false
    }
   },
   "outputs": [
    {
     "name": "stderr",
     "text": [
      "<ipython-input-16-e0565c65ff19>:19: MatplotlibDeprecationWarning: shading='flat' when X and Y have the same dimensions as C is deprecated since 3.3.  Either specify the corners of the quadrilaterals with X and Y, or pass shading='auto', 'nearest' or 'gouraud', or set rcParams['pcolor.shading'].  This will become an error two minor releases later.\n",
      "  plt.pcolormesh(XX, YY, Z, zorder=-10) # paint in 2 colors, if Z > 0 or not\n"
     ],
     "output_type": "stream"
    },
    {
     "data": {
      "text/plain": "<Figure size 432x288 with 1 Axes>",
      "image/png": "[encoded data removed]"
     },
     "metadata": {
      "needs_background": "light"
     },
     "output_type": "display_data"
    }
   ],
   "source": [
    "clf.fit(X,y) # 学習\n",
    "plt.scatter(X[:, 0], X[:, 1], marker='o', s=50, c=y, edgecolors='k')\n",
    "plotBoundary(X,clf) #境界線の描画"
   ]
  },
  {
   "cell_type": "code",
   "execution_count": 23,
   "id": "2434a654-07bd-444e-a57c-3be7192863d3",
   "metadata": {
    "pycharm": {
     "is_executing": false
    }
   },
   "outputs": [],
   "source": [
    "from sklearn import svm\n",
    "clf=svm.SVC(kernel='rbf')\n",
    "#RBFカーネル(Radial basis function kernel) RBFカーネルはカーネル関数の一つで、機械学習の文脈では、サポートベクターマシン(SVM)など内積のみを扱う線形のアルゴリズムを非線形化する際に登場します"
   ]
  },
  {
   "cell_type": "code",
   "execution_count": 24,
   "id": "935d3d02-1f4f-496c-b98a-df098866f884",
   "metadata": {
    "pycharm": {
     "is_executing": false
    }
   },
   "outputs": [
    {
     "name": "stderr",
     "text": [
      "<ipython-input-16-e0565c65ff19>:19: MatplotlibDeprecationWarning: shading='flat' when X and Y have the same dimensions as C is deprecated since 3.3.  Either specify the corners of the quadrilaterals with X and Y, or pass shading='auto', 'nearest' or 'gouraud', or set rcParams['pcolor.shading'].  This will become an error two minor releases later.\n",
      "  plt.pcolormesh(XX, YY, Z, zorder=-10) # paint in 2 colors, if Z > 0 or not\n"
     ],
     "output_type": "stream"
    },
    {
     "data": {
      "text/plain": "<Figure size 432x288 with 1 Axes>",
      "image/png": "[encoded data removed]"
     },
     "metadata": {
      "needs_background": "light"
     },
     "output_type": "display_data"
    }
   ],
   "source": [
    "clf.fit(X,y) # 学習\n",
    "plt.scatter(X[:, 0], X[:, 1], marker='o', s=50, c=y, edgecolors='k')\n",
    "plotBoundary(X,clf) #境界線の描画"
   ]
  },
  {
   "cell_type": "code",
   "execution_count": 24,
   "id": "242d030f-7d28-4022-9310-26dda9cf0b50",
   "metadata": {
    "pycharm": {
     "is_executing": false,
     "name": "#%%\n"
    }
   },
   "outputs": [],
   "source": [
    "#\n"
   ]
  },
  {
   "cell_type": "code",
   "execution_count": null,
   "outputs": [],
   "source": [
    "\n"
   ],
   "metadata": {
    "collapsed": false,
    "pycharm": {
     "name": "#%%\n"
    }
   }
  }
 ],
 "metadata": {
  "kernelspec": {
   "display_name": "Python 3",
   "language": "python",
   "name": "python3"
  },
  "language_info": {
   "codemirror_mode": {
    "name": "ipython",
    "version": 3
   },
   "file_extension": ".py",
   "mimetype": "text/x-python",
   "name": "python",
   "nbconvert_exporter": "python",
   "pygments_lexer": "ipython3",
   "version": "3.9.2"
  },
  "pycharm": {
   "stem_cell": {
    "cell_type": "raw",
    "source": [],
    "metadata": {
     "collapsed": false
    }
   }
  }
 },
 "nbformat": 4,
 "nbformat_minor": 5
}